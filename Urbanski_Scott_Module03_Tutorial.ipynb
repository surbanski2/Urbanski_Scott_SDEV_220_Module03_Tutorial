{
 "cells": [
  {
   "cell_type": "code",
   "execution_count": 11,
   "id": "12a40a85-91ee-453c-b394-fcf244bdd8d9",
   "metadata": {},
   "outputs": [
    {
     "name": "stdout",
     "output_type": "stream",
     "text": [
      "[0, 0, 0, 0, 0, 1, 1, 1, 2, 2, 2, 2]\n"
     ]
    }
   ],
   "source": [
    "class Solution:\n",
    "    def __init__(self, arr): # added outside of geeks for geeks\n",
    "        self.arr = arr # added outside of geeks for geeks\n",
    "    \n",
    "    def sort012(self): # removed the arr parameter from geeks for geeks\n",
    "\n",
    "        # creating an array for the unique elements\n",
    "        # creating a dictionary for the frequency of each element\n",
    "        unique = []\n",
    "        frequency = {}\n",
    "\n",
    "        # cycling through each item in the array\n",
    "        for item in self.arr: # added self\n",
    "            # the item is not currently in the unique array\n",
    "            if item not in unique:\n",
    "                # if there are no items in the unique array, the item will simply be added to the array, and an entry is added to\n",
    "                # the frequency dictionary with a count of 1\n",
    "                if len(unique) == 0:\n",
    "                    unique.append(item)\n",
    "                    frequency[str(item)] = 1\n",
    "                # checking to see if the current item is bigger than the last item in the unique array; if it is, then it belongs\n",
    "                # at the end of the unique array, so it is appended to the end and an entry is added to the frequency dictionary\n",
    "                # with a value of 1\n",
    "                elif item > unique[-1]:\n",
    "                    unique.append(item)\n",
    "                    frequency[str(item)] = 1\n",
    "                else:\n",
    "                    # otherwise we need to go through the list and see where it belongs\n",
    "                    for index in range(len(unique)):\n",
    "                        # if the current item happens to be less than the value of the unique array at index, then the item is \n",
    "                        # inserted into the unique array at index and an entry is added to the frequency dictionary with a value of 1;\n",
    "                        # also the looping through the unique index stops as it is no longer necessary; if the item was not less than the \n",
    "                        # value of the unique array at index, then the index increases and it is checked again\n",
    "                        if item < unique[index]:\n",
    "                            unique.insert(index, item)\n",
    "                            frequency[str(item)] = 1\n",
    "                            break\n",
    "            # this executes if the item was already in the unique array; in this case, its frequency within the frequency dictionary is increased by 1\n",
    "            else:\n",
    "                frequency[str(item)] = frequency.get(str(item)) + 1\n",
    "\n",
    "        # creating indexes for the unique array and the initial array\n",
    "        index = 0\n",
    "        arrIndex = 0\n",
    "\n",
    "        # creating a counter to keep track of the frequencies for each unique element\n",
    "        frequencyCounter = 0\n",
    "\n",
    "        # loop that goes through each of the elements of the unique array\n",
    "        while index < len(unique):\n",
    "            # loop that continues until the frequency counter meets the frequency for the given unique element\n",
    "            while frequencyCounter < frequency.get(str(unique[index])):\n",
    "                # assigning the value of the initial array at its respective index the value of the unique element array at its respective index\n",
    "                self.arr[arrIndex] = unique[index] # added self\n",
    "                # increasing the frequency counter and the intial array index by 1\n",
    "                frequencyCounter += 1\n",
    "                arrIndex += 1\n",
    "            # all of the frequencies for the given unique element have finished, so it is time to increase the unique array index to move to the next element\n",
    "            index += 1\n",
    "            # resetting the frequency counter back to 0 as we have moved on to the next element\n",
    "            frequencyCounter = 0\n",
    "\n",
    "        return self.arr # added outside of geeks for geeks\n",
    "\n",
    "\n",
    "# creating a test array and solution object to test values\n",
    "testArray = [2, 2, 0, 0, 1, 1, 0, 1, 0, 2, 2, 0] # added outside of geeks for geeks\n",
    "mySolution = Solution(testArray) # added outside of geeks for geeks\n",
    "print(mySolution.sort012()) # added outside of geeks for geeks"
   ]
  },
  {
   "cell_type": "markdown",
   "id": "1f82652a-87bc-4186-8d11-e5726cf4d05b",
   "metadata": {},
   "source": [
    "An init method was created and the \"arr\" parameter was removed from the sorted012 function. This was done in order to make it easy to create a Solution object with testArray as a property that can be applied within the Solution class's sorted012 function. \n",
    "\n",
    "I am aware of a method of sorting arrays that involves repeatedly splitting the array into 2 equal parts, comparing the elements with the parts, and merging them back together as a single array. However, I could not recall exactly how to do that. Instead, I took an approach similar to the middle solution proposed in the Editorial section (the final approach within the Editorial section did not make much sense to me). In my approach I used a dictionary to map out all the distinct array values with their respective frequencies. I then iterated through the initial array a second time assigning values to the array based on the frequency dictionary. However, the frequency dictionary had a problem. Its keys are ordered in the order in which they're entered. This means that, if in the initial array, the unique items do not appear in an ascending order, the \"sorted\" array would have all the unique items grouped together, but they would not be sorted. For example, if the initial array was [1, 0, 2, 1, 0, 2], because the first 1 came before the first 0, the sorted array would be [1, 1, 0, 0, 2, 2] which is not the desired result. This is where the unique array comes in. When iterating through the initial array, if a new item is found, it will be placed into both the frequency dictionary and the unique array. The unique array has logic to sort each of the unique elements, so that when the frequency dictionary is applied, it can be done in the proper order."
   ]
  },
  {
   "cell_type": "code",
   "execution_count": 16,
   "id": "b31c6d54-3ac1-43f2-8be5-2f8af97deb15",
   "metadata": {},
   "outputs": [
    {
     "name": "stdout",
     "output_type": "stream",
     "text": [
      "8\n"
     ]
    }
   ],
   "source": [
    "class Solution:\n",
    "    def __init__(self, arr, k): # added outside of geeks for geeks\n",
    "        self.arr = arr # added outside of geeks for geeks\n",
    "        self.k = k # added outside of geeks for geeks\n",
    "\n",
    "    def binarysearch(self):\n",
    "        index = -1\n",
    "        lowIndex = 0\n",
    "        highIndex = len(self.arr) - 1\n",
    "        findMidIndex = lambda high, low: ((high+low)//2)\n",
    "        midIndex = findMidIndex(highIndex, lowIndex)\n",
    "\n",
    "        while lowIndex <= highIndex:\n",
    "            if self.k > self.arr[midIndex]:\n",
    "                lowIndex = midIndex + 1\n",
    "                midIndex = findMidIndex(highIndex, lowIndex)\n",
    "            elif self.k < self.arr[midIndex]:\n",
    "                highIndex = midIndex - 1\n",
    "                midIndex = findMidIndex(highIndex, lowIndex)\n",
    "            else:\n",
    "                index = midIndex\n",
    "                highIndex = midIndex - 1\n",
    "                midIndex = findMidIndex(highIndex, lowIndex)\n",
    "        return index\n",
    "\n",
    "\n",
    "testArray = [3, 7, 8, 10, 12, 14, 16, 20, 22, 26]\n",
    "findNumber = 22\n",
    "mySolution = Solution(testArray, findNumber)\n",
    "print(mySolution.binarysearch())\n",
    "\n",
    "\n"
   ]
  },
  {
   "cell_type": "code",
   "execution_count": null,
   "id": "6fabd015-a07b-4c95-8f79-6524338e6a19",
   "metadata": {},
   "outputs": [],
   "source": []
  },
  {
   "cell_type": "code",
   "execution_count": null,
   "id": "ae3b086a-6c77-4089-bc72-54feaadff36b",
   "metadata": {},
   "outputs": [],
   "source": []
  }
 ],
 "metadata": {
  "kernelspec": {
   "display_name": "Python 3 (ipykernel)",
   "language": "python",
   "name": "python3"
  },
  "language_info": {
   "codemirror_mode": {
    "name": "ipython",
    "version": 3
   },
   "file_extension": ".py",
   "mimetype": "text/x-python",
   "name": "python",
   "nbconvert_exporter": "python",
   "pygments_lexer": "ipython3",
   "version": "3.12.7"
  }
 },
 "nbformat": 4,
 "nbformat_minor": 5
}
